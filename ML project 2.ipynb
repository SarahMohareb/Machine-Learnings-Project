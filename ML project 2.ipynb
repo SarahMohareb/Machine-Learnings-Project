{
 "cells": [
  {
   "cell_type": "code",
   "execution_count": null,
   "id": "94053784-a006-49e0-8fc6-9a233dbc4ddf",
   "metadata": {},
   "outputs": [],
   "source": [
    "import pandas as pd\n",
    "import seaborn as sns\n",
    "import matplotlib.pyplot as plt\n",
    "from sklearn.preprocessing import PolynomialFeatures\n",
    "from sklearn.linear_model import LinearRegression\n",
    "from sklearn.preprocessing import StandardScaler\n",
    "from sklearn.model_selection import train_test_split\n",
    "from sklearn.metrics import mean_squared_error, r2_score\n",
    "import numpy as np"
   ]
  },
  {
   "cell_type": "markdown",
   "id": "1f7768b9-2217-49a0-8de2-8b025b33e1f5",
   "metadata": {},
   "source": [
    "# Part 1: Importing Libraries and Loading the Data\n",
    "\n",
    "In this section, we import all the required libraries and load the dataset to begin our analysis."
   ]
  },
  {
   "cell_type": "code",
   "execution_count": null,
   "id": "1e840c80-0be0-47ea-b385-0efd8ba7c22c",
   "metadata": {},
   "outputs": [],
   "source": [
    "# Load the dataset\n",
    "data = pd.read_csv('Student_Performance.csv')"
   ]
  },
  {
   "cell_type": "code",
   "execution_count": null,
   "id": "41047b90-c415-4a74-a8bc-72da85a736cc",
   "metadata": {},
   "outputs": [],
   "source": [
    "# Display basic information about the dataset\n",
    "data.info()"
   ]
  },
  {
   "cell_type": "code",
   "execution_count": null,
   "id": "8b97fdfc-12a3-49ec-844b-1100c1a65cc3",
   "metadata": {},
   "outputs": [],
   "source": [
    "data.head()"
   ]
  },
  {
   "cell_type": "code",
   "execution_count": null,
   "id": "488f5d3b-32cc-43c4-9728-a36209c6ec44",
   "metadata": {},
   "outputs": [],
   "source": [
    "# Check for duplicate rows\n",
    "print(data.duplicated().sum())"
   ]
  },
  {
   "cell_type": "code",
   "execution_count": null,
   "id": "14a4fae3-82bf-4b24-9a87-741cfac37a55",
   "metadata": {},
   "outputs": [],
   "source": [
    "# Check for missing values\n",
    "print(data.isnull().sum())"
   ]
  },
  {
   "cell_type": "code",
   "execution_count": null,
   "id": "46c29050-21bb-4aa7-8568-21966e2159cf",
   "metadata": {},
   "outputs": [],
   "source": [
    "print(data.dtypes)"
   ]
  },
  {
   "cell_type": "code",
   "execution_count": null,
   "id": "be10d297-ba59-4dad-9902-178d908991e8",
   "metadata": {},
   "outputs": [],
   "source": [
    "# Convert 'Performance Index' column to integer type\n",
    "data['Performance Index'] = data['Performance Index'].astype('int')\n",
    "\n",
    "# Check the updated data types\n",
    "data.info()"
   ]
  },
  {
   "cell_type": "code",
   "execution_count": null,
   "id": "63177b36-b305-4416-8d04-6a80875159fa",
   "metadata": {},
   "outputs": [],
   "source": [
    "# Display descriptive statistics of the dataset\n",
    "data.describe()"
   ]
  },
  {
   "cell_type": "code",
   "execution_count": null,
   "id": "b1bd7261-2d86-43fd-8620-4d5024fd8c79",
   "metadata": {},
   "outputs": [],
   "source": [
    "data.head()"
   ]
  },
  {
   "cell_type": "markdown",
   "id": "93e43bfc-8d34-41c7-8d77-f7847000a64c",
   "metadata": {},
   "source": [
    "# Encoding Categorical Variables\n",
    "\n",
    "In this section, we use one-hot encoding to transform the 'Extracurricular Activities' column into numerical values.\n"
   ]
  },
  {
   "cell_type": "code",
   "execution_count": null,
   "id": "8406b15e-bf12-4de3-b648-14d493f5d8d6",
   "metadata": {},
   "outputs": [],
   "source": [
    "# Apply one-hot encoding to 'Extracurricular Activities' column\n",
    "data_encoded = pd.get_dummies(data, columns=['Extracurricular Activities'], drop_first=False)\n",
    "\n",
    "# Convert all columns to integer type\n",
    "data_encoded = data_encoded.astype(int)\n",
    "\n",
    "# Display the first few rows of the encoded dataset\n",
    "data_encoded.head()"
   ]
  },
  {
   "cell_type": "code",
   "execution_count": null,
   "id": "e3900aeb-4254-4657-9538-fd7f093075ae",
   "metadata": {},
   "outputs": [],
   "source": [
    "data_encoded.info()"
   ]
  },
  {
   "cell_type": "code",
   "execution_count": null,
   "id": "da530151-4b56-4639-9b72-e7d2db724fe8",
   "metadata": {},
   "outputs": [],
   "source": [
    "# Visualize the distribution of 'Extracurricular Activities'\n",
    "sns.countplot(x='Extracurricular Activities', hue='Extracurricular Activities', data=data, palette='Set2', legend=False)\n",
    "plt.title('Count of Extracurricular Activities (Yes vs No)')\n",
    "plt.xlabel('Extracurricular Activities')\n",
    "plt.ylabel('Count')\n",
    "plt.show()"
   ]
  },
  {
   "cell_type": "code",
   "execution_count": null,
   "id": "51253d1f-7085-4174-a333-2137b678ea55",
   "metadata": {},
   "outputs": [],
   "source": [
    "# Plot histograms for all numerical features\n",
    "data.hist(figsize=(10, 6))\n",
    "plt.tight_layout()\n",
    "plt.show()"
   ]
  },
  {
   "cell_type": "markdown",
   "id": "86d3c625-1032-4412-9e3e-6e1563f358cf",
   "metadata": {},
   "source": [
    "#  Visualizing Correlation Matrix\n",
    "\n",
    "In this section, we create a heatmap to visualize the correlation between different features in the dataset.\n"
   ]
  },
  {
   "cell_type": "code",
   "execution_count": null,
   "id": "81c2388f-e0af-455c-bbc8-7ab51ac77634",
   "metadata": {},
   "outputs": [],
   "source": [
    "# Calculate the correlation matrix\n",
    "corr_matrix = data_encoded.corr()\n",
    "\n",
    "# Plot the heatmap of the correlation matrix\n",
    "plt.figure(figsize=(10, 6))\n",
    "sns.heatmap(corr_matrix, annot=True, cmap='coolwarm', fmt='.2f')\n",
    "plt.show()"
   ]
  },
  {
   "cell_type": "code",
   "execution_count": null,
   "id": "ad443bc8-aa3e-4828-a8f8-693ec439ee60",
   "metadata": {},
   "outputs": [],
   "source": [
    "corr_matrix"
   ]
  },
  {
   "cell_type": "markdown",
   "id": "cc87cad3-3a60-4640-a657-a63541aa383b",
   "metadata": {},
   "source": [
    "#  Analyzing Feature Correlation with Performance Index\n",
    "\n",
    " we sort and display the correlation of each feature with the 'Performance Index' to identify the most influential variables.\n"
   ]
  },
  {
   "cell_type": "code",
   "execution_count": null,
   "id": "fdef99a3-56e4-4da1-9a3e-11a3709b530c",
   "metadata": {},
   "outputs": [],
   "source": [
    "# Sort and display the correlation of each feature with 'Performance Index'\n",
    "print(corr_matrix['Performance Index'].sort_values(ascending=False))"
   ]
  },
  {
   "cell_type": "code",
   "execution_count": null,
   "id": "c0e36844-a8d4-444a-b835-22b294dd3dea",
   "metadata": {},
   "outputs": [],
   "source": [
    "# Create a scatter plot to visualize the relationship between 'Previous Scores' and 'Performance Index'\n",
    "sns.scatterplot(data=data, x='Previous Scores', y='Performance Index')"
   ]
  },
  {
   "cell_type": "markdown",
   "id": "e8acb470-c716-4a8d-b05c-d458b8a0404a",
   "metadata": {},
   "source": [
    "# Exploratory Data Analysis (EDA)\n",
    "We perform data inspection\n",
    "check for missing values\n",
    "and explore the structure of the dataset. \n",
    "Visual tools like scatter plots, histograms, and heatmaps \n",
    "help us understand relationships between variables and identify patterns or outliers."
   ]
  },
  {
   "cell_type": "code",
   "execution_count": null,
   "id": "a7758f32-94ca-449e-9354-31efb7167be5",
   "metadata": {},
   "outputs": [],
   "source": [
    "# Separate the features and target variable\n",
    "features = data_encoded.drop('Performance Index', axis=1)\n",
    "target = data_encoded['Performance Index']"
   ]
  },
  {
   "cell_type": "code",
   "execution_count": null,
   "id": "59fef56c-1f5a-4d3f-9549-ae28e3127d36",
   "metadata": {},
   "outputs": [],
   "source": [
    "# Initialize the scaler and scale the features\n",
    "scaler = StandardScaler()\n",
    "scaled_features = scaler.fit_transform(features)\n",
    "\n",
    "# Display the scaled features\n",
    "scaled_features"
   ]
  },
  {
   "cell_type": "code",
   "execution_count": null,
   "id": "4e57cf97-c223-4784-9828-61f0b0e2cfe5",
   "metadata": {},
   "outputs": [],
   "source": [
    "# split the dataset into training and testing sets, using 80% of the data for training and 20% for testing.\n",
    "X_train, X_test, y_train, y_test = train_test_split(scaled_features, target, test_size=0.2, random_state=20)"
   ]
  },
  {
   "cell_type": "code",
   "execution_count": null,
   "id": "34f519ea-9d12-4735-90ee-6b8e1bd7bca5",
   "metadata": {},
   "outputs": [],
   "source": [
    "#  Selecting only the 'Previous Scores' feature (column index 1) for simple regression\n",
    "X_train_simple = X_train[:, 1:2]\n",
    "X_test_simple = X_test[:, 1:2]\n",
    "\n",
    "#  Initialize and train the Linear Regression model\n",
    "model = LinearRegression()\n",
    "model.fit(X_train_simple, y_train)\n",
    "\n",
    "#  Predicting the target values for test data\n",
    "y_pred = model.predict(X_test_simple)\n",
    "\n",
    "#  Evaluation metrics\n",
    "mse = mean_squared_error(y_test, y_pred)  # Mean Squared Error\n",
    "r2 = r2_score(y_test, y_pred)             # R² score (coefficient of determination)\n",
    "\n",
    "# Plotting the regression line along with actual data points\n",
    "plt.scatter(X_test_simple, y_test, color='blue', label='Actual Data')\n",
    "plt.plot(X_test_simple, y_pred, color='red', label='Regression Line')\n",
    "plt.xlabel('Previous Scores')\n",
    "plt.ylabel('Performance Index')\n",
    "plt.title('Simple Linear Regression: Previous Scores vs Performance Index')\n",
    "plt.legend()\n",
    "plt.show()\n",
    "\n",
    "#  Display evaluation metrics\n",
    "print(f'R²: {r2}')\n",
    "print(f'Mean Squared Error: {mse}')"
   ]
  },
  {
   "cell_type": "markdown",
   "id": "82de9052-13fe-4ef7-9d2b-27c96bd9284f",
   "metadata": {},
   "source": [
    "# Simple Linear Regression Model\n",
    "\n",
    "In this part, we use the simple linear regression model we previously trained to predict the Performance Index for a student who scored 80 in Previous Scores.\n"
   ]
  },
  {
   "cell_type": "code",
   "execution_count": null,
   "id": "4c9099e7-674f-4c05-b472-ffe085e2e235",
   "metadata": {},
   "outputs": [],
   "source": [
    "#  Extract the feature and target\n",
    "X_simple = data_encoded[['Previous Scores']].values\n",
    "y = data_encoded['Performance Index'].values\n",
    "\n",
    "#  Initialize and train the Linear Regression model\n",
    "model_simple = LinearRegression()\n",
    "model_simple.fit(X_simple, y)\n",
    "\n",
    "#  Predict the Performance Index for a student with 80 previous score\n",
    "X_new_simple = np.array([[80]])\n",
    "predicted_performance_simple = model_simple.predict(X_new_simple)\n",
    "\n",
    "#  Output the result\n",
    "print(f\"Simple Linear Regression Prediction for {X_new_simple[0][0]} Previous Scores: {predicted_performance_simple[0]:.2f}\")"
   ]
  },
  {
   "cell_type": "markdown",
   "id": "9cf2a688-4fed-46a0-8152-4fcc548f0af8",
   "metadata": {},
   "source": [
    "# Multiple Linear Regression Model\n",
    "\n",
    "We now use Multiple Linear Regression Model to model the relationship between the Performance Index and all other features in the dataset. This allows the model to learn from multiple variables rather than just one (like in simple linear regression).\n"
   ]
  },
  {
   "cell_type": "code",
   "execution_count": null,
   "id": "d86ec2f5-5959-44e7-a190-5ce301694a0e",
   "metadata": {},
   "outputs": [],
   "source": [
    "#  Initialize and train the multiple linear regression model on all features\n",
    "model_multi = LinearRegression()\n",
    "model_multi.fit(X_train, y_train)\n",
    "\n",
    "#  Predict values using the test set\n",
    "y_pred_multi = model_multi.predict(X_test)\n",
    "\n",
    "#  Evaluate the model using R² and Mean Squared Error\n",
    "mse_multi = mean_squared_error(y_test, y_pred_multi)\n",
    "r2_multi = r2_score(y_test, y_pred_multi)\n",
    "\n",
    "#  Display the evaluation metrics\n",
    "print(f'Multiple Linear Regression R²: {r2_multi}')\n",
    "print(f'Multiple Linear Regression Mean Squared Error: {mse_multi}')\n",
    "\n",
    "#  Compare with simple linear regression results\n",
    "print(f'\\nComparison:\\n')\n",
    "print(f'Multiple Linear Regression R²: {r2_multi} vs Simple Linear Regression R²: {r2}')\n",
    "print(f'Multiple Linear Regression MSE: {mse_multi} vs Simple Linear Regression MSE: {mse}')"
   ]
  },
  {
   "cell_type": "markdown",
   "id": "7e1162ce-87e0-4031-9174-61cdb88e2a60",
   "metadata": {},
   "source": [
    "Here, we are using Multiple Linear Regression to predict the Performance Index for a student based on multiple features: Hours Studied, Previous Scores, Sample Question Papers Practiced, and Sleep Hours.\n",
    "\n"
   ]
  },
  {
   "cell_type": "code",
   "execution_count": null,
   "id": "e885caf8-3611-46de-833f-c3eb0c1ad83c",
   "metadata": {},
   "outputs": [],
   "source": [
    "# Extract the features (independent variables) and target (dependent variable)\n",
    "X_multiple = data_encoded[['Hours Studied', 'Previous Scores', 'Sample Question Papers Practiced', 'Sleep Hours']].values  # Features\n",
    "y = data_encoded['Performance Index'].values  # Target\n",
    "\n",
    "#  Initialize and train the Multiple Linear Regression model\n",
    "model_multiple = LinearRegression()\n",
    "model_multiple.fit(X_multiple, y)\n",
    "\n",
    "#  Predict the Performance Index for a new data point (6.5 hours studied, 80 previous score, 5 papers practiced, 5 sleep hours)\n",
    "X_new_multiple = np.array([[6.5, 80, 5, 5]])\n",
    "predicted_performance_multiple = model_multiple.predict(X_new_multiple)\n",
    "\n",
    "#  Display the prediction\n",
    "print(f\"Multiple Linear Regression Prediction for the new data point: {predicted_performance_multiple[0]:.2f}\")"
   ]
  },
  {
   "cell_type": "markdown",
   "id": "7f8ef9e9-019b-48e5-adee-bcf1d29b9a9e",
   "metadata": {},
   "source": [
    "# Polynomial Regression\n",
    "In this part, we explore Polynomial Regression for different polynomial degrees (2, 3, 4).\n",
    "By increasing the degree, we can fit more complex curves to the data and see how the model's performance changes."
   ]
  },
  {
   "cell_type": "code",
   "execution_count": null,
   "id": "ad88fcad-317c-43b2-8003-4341ac82c09a",
   "metadata": {},
   "outputs": [],
   "source": [
    "#  Extract the feature and target variables\n",
    "X = data_encoded[['Previous Scores']]  # Independent variable\n",
    "y = data_encoded['Performance Index']  # Dependent variable\n",
    "\n",
    "#  Try Polynomial Regression for different degrees\n",
    "degrees = [2, 3, 4]\n",
    "\n",
    "for degree in degrees:\n",
    "    #  Transform the feature to a higher degree polynomial\n",
    "    poly = PolynomialFeatures(degree=degree)\n",
    "    X_poly = poly.fit_transform(X)\n",
    "\n",
    "    #  Train the polynomial regression model\n",
    "    model = LinearRegression()\n",
    "    model.fit(X_poly, y)\n",
    "\n",
    "    #  Predict using the trained model\n",
    "    y_pred = model.predict(X_poly)\n",
    "\n",
    "    #  Calculate Mean Squared Error and R² score\n",
    "    mse = mean_squared_error(y, y_pred)\n",
    "    r2 = r2_score(y, y_pred)\n",
    "\n",
    "    #  Display the results for each degree\n",
    "    print(f\"Degree {degree}:\\n MSE = {mse:.6f}\\n R² = {r2:.6f}\")\n",
    "\n",
    "    #  Visualize the Polynomial Regression for each degree\n",
    "    plt.figure(figsize=(70, 10))\n",
    "    plt.scatter(X, y, color='blue', label='Original data')\n",
    "    plt.plot(X, y_pred, color='red', label=f'Poly Degree {degree}')\n",
    "    plt.title(f'Polynomial Regression (Degree {degree})')\n",
    "    plt.xlabel('Previous Scores')\n",
    "    plt.ylabel('Performance Index')\n",
    "    plt.legend()\n",
    "    plt.grid(True)\n",
    "    plt.show()\n",
    "\n",
    "    print('='*60)"
   ]
  },
  {
   "cell_type": "code",
   "execution_count": null,
   "id": "b1fd8e09-cfaf-4446-a25d-e7acf716cd31",
   "metadata": {},
   "outputs": [],
   "source": [
    "#  New data point for prediction\n",
    "X_new = 80  # The new value of Previous Scores\n",
    "\n",
    "#  Polynomial transformation for degree 4\n",
    "poly = PolynomialFeatures(degree=4)\n",
    "X_poly = poly.fit_transform(data_encoded[['Previous Scores']].values)\n",
    "\n",
    "#  Train the model with Polynomial Regression (degree 4)\n",
    "model = LinearRegression()\n",
    "model.fit(X_poly, data_encoded['Performance Index'].values)\n",
    "\n",
    "#  Transform the new value using the same polynomial transformation\n",
    "X_new_poly = poly.transform([[X_new]])\n",
    "\n",
    "#  Predict the Performance Index for the new value\n",
    "predicted_performance = model.predict(X_new_poly)\n",
    "\n",
    "#  Display the predicted value\n",
    "print(f\"Predicted Performance Index for {X_new} Previous Scores: {predicted_performance[0]:.2f}\")"
   ]
  },
  {
   "cell_type": "markdown",
   "id": "80833436-0216-4903-8d70-61475bd11a26",
   "metadata": {},
   "source": [
    "# Summary of Findings:\n",
    "\n",
    "### 1. Data Preprocessing:\n",
    "The data was read from the CSV file and cleaned by checking for missing values and duplicates.\n",
    "\n",
    " Categorical variables like \"Extracurricular Activities\" were encoded into numeric form for model compatibility.\n",
    "\n",
    " Scaling was applied to features to ensure uniformity in data range, specifically for models sensitive to feature scales like linear regression.\n",
    "\n",
    "### 2. Exploratory Data Analysis (EDA):\n",
    "We explored the relationship between various features and the target variable (\"Performance Index\") using:\n",
    "\n",
    " Correlation matrix to understand feature dependencies.\n",
    "\n",
    " Scatter plots to visually inspect relationships, especially between \"Previous Scores\" and \"Performance Index\".\n",
    "\n",
    "### 3. Simple Linear Regression:\n",
    "A simple linear regression model was trained using Previous Scores to predict the Performance Index.\n",
    "\n",
    " The performance was evaluated using Mean Squared Error (MSE) and R² score.\n",
    "### 4. Multiple Linear Regression:\n",
    "A multiple linear regression model was trained using multiple features to predict the Performance Index.\n",
    "\n",
    " Comparison of R² and MSE was made with the simple linear regression model to evaluate improvement by including more features.\n",
    "### 5. Polynomial Regression:\n",
    "Polynomial regression of varying degrees (2, 3, and 4) was applied to Previous Scores to improve prediction accuracy.\n",
    "\n",
    " For each degree, the Mean Squared Error (MSE) and R² scores were calculated to evaluate the fit of the model.\n",
    "### 6. Final Prediction Using Polynomial Regression:\n",
    "After training the polynomial regression model with degree 4, a prediction was made for 80 previous scores to forecast the Performance Index.\n",
    "\n",
    "This workflow shows a comprehensive approach to modeling student performance, with evaluations of different regression techniques and their effectiveness in predicting outcomes.\n",
    "\n"
   ]
  },
  {
   "cell_type": "code",
   "execution_count": null,
   "id": "c5725085-7a32-4356-b5a3-5f346e46d705",
   "metadata": {},
   "outputs": [],
   "source": [
    "from sklearn.preprocessing import LabelEncoder, StandardScaler  # type: ignore\n",
    "from sklearn.model_selection import train_test_split\n",
    "from sklearn.linear_model import LogisticRegression\n",
    "from sklearn.metrics import confusion_matrix, classification_report"
   ]
  },
  {
   "cell_type": "code",
   "execution_count": 90,
   "id": "9eefe52d-3a80-4a4b-b6e3-9a19c32971d8",
   "metadata": {},
   "outputs": [
    {
     "name": "stdout",
     "output_type": "stream",
     "text": [
      "<class 'pandas.core.frame.DataFrame'>\n",
      "RangeIndex: 500 entries, 0 to 499\n",
      "Data columns (total 9 columns):\n",
      " #   Column                Non-Null Count  Dtype \n",
      "---  ------                --------------  ----- \n",
      " 0   Patient ID            500 non-null    object\n",
      " 1   Sex                   500 non-null    object\n",
      " 2   Age                   500 non-null    int64 \n",
      " 3   Grade                 500 non-null    object\n",
      " 4   Histological type     500 non-null    object\n",
      " 5   MSKCC type            500 non-null    object\n",
      " 6   Site of primary STS   500 non-null    object\n",
      " 7   Status (NED, AWD, D)  500 non-null    object\n",
      " 8   Treatment             500 non-null    object\n",
      "dtypes: int64(1), object(8)\n",
      "memory usage: 35.3+ KB\n",
      "============================================================\n",
      "<class 'pandas.core.frame.DataFrame'>\n",
      "RangeIndex: 500 entries, 0 to 499\n",
      "Data columns (total 9 columns):\n",
      " #   Column                Non-Null Count  Dtype \n",
      "---  ------                --------------  ----- \n",
      " 0   Patient ID            500 non-null    object\n",
      " 1   Sex                   500 non-null    object\n",
      " 2   Age                   500 non-null    int64 \n",
      " 3   Grade                 500 non-null    object\n",
      " 4   Histological type     500 non-null    object\n",
      " 5   MSKCC type            500 non-null    object\n",
      " 6   Site of primary STS   500 non-null    object\n",
      " 7   Status (NED, AWD, D)  500 non-null    object\n",
      " 8   Treatment             500 non-null    object\n",
      "dtypes: int64(1), object(8)\n",
      "memory usage: 35.3+ KB\n",
      "============================================================\n",
      "Patient ID              object\n",
      "Sex                     object\n",
      "Age                      int64\n",
      "Grade                   object\n",
      "Histological type       object\n",
      "MSKCC type              object\n",
      "Site of primary STS     object\n",
      "Status (NED, AWD, D)    object\n",
      "Treatment               object\n",
      "dtype: object\n"
     ]
    }
   ],
   "source": [
    "filepath= r'Bone Tumor Dataset.csv'\n",
    "df = pd.read_csv(filepath)\n",
    "df.columns = df.columns.str.strip() # remove space in name of colomns to defined them easily\n",
    "df.info()\n",
    "print('='*60)\n",
    "df = df.dropna()\n",
    "df.info()\n",
    "print('='*60) # same num of rows so there is no  na\n",
    "print(df.dtypes)"
   ]
  },
  {
   "cell_type": "code",
   "execution_count": 91,
   "id": "19b7f085-e402-47af-8602-71082ec49d37",
   "metadata": {},
   "outputs": [
    {
     "name": "stdout",
     "output_type": "stream",
     "text": [
      "<class 'pandas.core.frame.DataFrame'>\n",
      "RangeIndex: 500 entries, 0 to 499\n",
      "Data columns (total 28 columns):\n",
      " #   Column                                                        Non-Null Count  Dtype \n",
      "---  ------                                                        --------------  ----- \n",
      " 0   Patient ID                                                    500 non-null    object\n",
      " 1   Sex                                                           500 non-null    int64 \n",
      " 2   Age                                                           500 non-null    int64 \n",
      " 3   Grade                                                         500 non-null    int64 \n",
      " 4   Status (NED, AWD, D)                                          500 non-null    object\n",
      " 5   Status                                                        500 non-null    int64 \n",
      " 6   Histological type_leiomyosarcoma                              500 non-null    int64 \n",
      " 7   Histological type_malignant solitary fibrous tumor            500 non-null    int64 \n",
      " 8   Histological type_myxofibrosarcoma                            500 non-null    int64 \n",
      " 9   Histological type_myxoid fibrosarcoma                         500 non-null    int64 \n",
      " 10  Histological type_pleiomorphic leiomyosarcoma                 500 non-null    int64 \n",
      " 11  Histological type_pleiomorphic spindle cell undifferentiated  500 non-null    int64 \n",
      " 12  Histological type_pleomorphic sarcoma                         500 non-null    int64 \n",
      " 13  Histological type_poorly differentiated synovial sarcoma      500 non-null    int64 \n",
      " 14  Histological type_sclerosing epithelioid fibrosarcoma         500 non-null    int64 \n",
      " 15  Histological type_synovial sarcoma                            500 non-null    int64 \n",
      " 16  Histological type_undifferentiated - pleiomorphic             500 non-null    int64 \n",
      " 17  Histological type_undifferentiated pleomorphic liposarcoma    500 non-null    int64 \n",
      " 18  MSKCC type_MFH                                                500 non-null    int64 \n",
      " 19  MSKCC type_Synovial sarcoma                                   500 non-null    int64 \n",
      " 20  Site of primary STS_left buttock                              500 non-null    int64 \n",
      " 21  Site of primary STS_left thigh                                500 non-null    int64 \n",
      " 22  Site of primary STS_parascapusular                            500 non-null    int64 \n",
      " 23  Site of primary STS_right buttock                             500 non-null    int64 \n",
      " 24  Site of primary STS_right parascapusular                      500 non-null    int64 \n",
      " 25  Site of primary STS_right thigh                               500 non-null    int64 \n",
      " 26  Treatment_Radiotherapy + Surgery + Chemotherapy               500 non-null    int64 \n",
      " 27  Treatment_Surgery + Chemotherapy                              500 non-null    int64 \n",
      "dtypes: int64(26), object(2)\n",
      "memory usage: 109.5+ KB\n",
      "None\n"
     ]
    }
   ],
   "source": [
    "df_encoded = df.copy()  # take a copy to work on it without changing the main data\n",
    "label_encoder = LabelEncoder()\n",
    "df_encoded ['Sex'] = label_encoder.fit_transform(df_encoded ['Sex'])  # male 1 female 0  (LabelEncoding)\n",
    "\n",
    "df_encoded ['Status'] = label_encoder.fit_transform(df_encoded ['Status (NED, AWD, D)']) ## the target  NED 0 , AWD 1 , D 2   (LabelEncoding)\n",
    "\n",
    "grade_mapping = {'High': 2, 'Intermediate': 1, 'Low': 0} # (Ordinal Encoding)  add new colomn like the main colomn but in numeric\n",
    "df_encoded ['Grade'] = df_encoded ['Grade'].map(grade_mapping)\n",
    "\n",
    "df_encoded = pd.get_dummies(df_encoded, columns=['Histological type', 'MSKCC type', 'Site of primary STS','Treatment'], drop_first=True) # (One-Hot Encoding) with remove the main colomns after separate\n",
    "\n",
    "bool_cols = df_encoded.select_dtypes(include=\"bool\").columns\n",
    "df_encoded[bool_cols] = df_encoded[bool_cols].astype(int)    # changing true / false to   1/0\n",
    "\n",
    "print(df_encoded.info()) # detect that all features become numeric after encoding"
   ]
  },
  {
   "cell_type": "code",
   "execution_count": 92,
   "id": "61048616-e5d9-4ad9-9245-bec1931672ea",
   "metadata": {},
   "outputs": [],
   "source": [
    "X = df_encoded.drop(columns=['Status (NED, AWD, D)','Patient ID','Status'])  # all features except target and unimportant colomns\n",
    "y = df_encoded['Status']  # target\n",
    "\n",
    "X_train, X_test, y_train, y_test = train_test_split(X, y, test_size=0.2, random_state=42)   # 80% for train 20% for test\n",
    "\n",
    "# standrization\n",
    "scaler = StandardScaler()\n",
    "X_train_scaled = scaler.fit_transform(X_train)  # standrization of training data\n",
    "X_test_scaled = scaler.transform(X_test)  #  standrization of test data\n",
    "# model for logistic regression\n",
    "model = LogisticRegression(random_state=42)\n",
    "model.fit(X_train_scaled, y_train)  # train model\n",
    "\n",
    "y_pred = model.predict(X_test_scaled)"
   ]
  },
  {
   "cell_type": "code",
   "execution_count": 93,
   "id": "52767a79-2582-48a1-ab29-42b4ce11e0f2",
   "metadata": {},
   "outputs": [
    {
     "name": "stdout",
     "output_type": "stream",
     "text": [
      "Confusion Matrix:\n",
      "[[16  1  1]\n",
      " [ 1 18 12]\n",
      " [ 4  7 40]]\n"
     ]
    },
    {
     "data": {
      "image/png": "[encoded data removed]",
      "text/plain": [
       "<Figure size 700x500 with 2 Axes>"
      ]
     },
     "metadata": {},
     "output_type": "display_data"
    }
   ],
   "source": [
    "# visualization\n",
    "\n",
    "conf_matrix = confusion_matrix(y_test, y_pred)\n",
    "print(\"Confusion Matrix:\")\n",
    "print(conf_matrix)\n",
    "\n",
    "plt.figure(figsize=(7, 5))\n",
    "sns.heatmap(conf_matrix, annot=True, fmt='d', cmap='Blues', xticklabels=['NED', 'AWD', 'D'], yticklabels=['NED', 'AWD', 'D'])\n",
    "plt.title(\"Confusion Matrix\")\n",
    "plt.xlabel('Predicted')\n",
    "plt.ylabel('Actual')\n",
    "plt.show()"
   ]
  },
  {
   "cell_type": "code",
   "execution_count": 94,
   "id": "5da3c6d6-dcc4-40b0-9206-59bc4d4a08a5",
   "metadata": {},
   "outputs": [
    {
     "name": "stdout",
     "output_type": "stream",
     "text": [
      "Classification Report:\n",
      "              precision    recall  f1-score   support\n",
      "\n",
      "           0       0.76      0.89      0.82        18\n",
      "           1       0.69      0.58      0.63        31\n",
      "           2       0.75      0.78      0.77        51\n",
      "\n",
      "    accuracy                           0.74       100\n",
      "   macro avg       0.74      0.75      0.74       100\n",
      "weighted avg       0.74      0.74      0.74       100\n",
      "\n"
     ]
    }
   ],
   "source": [
    "# classification report\n",
    "print(\"Classification Report:\")\n",
    "print(classification_report(y_test, y_pred))"
   ]
  },
  {
   "cell_type": "markdown",
   "id": "33eb91e7-0044-4c09-a6cf-c9d4497cc716",
   "metadata": {},
   "source": [
    "# Summary of Findings:\n",
    "\n",
    "\n",
    "# Dataset and Preprocessing:\n",
    "\n",
    "Label Encoding: gender and Status columns were encoded to numeric values.\n",
    "\n",
    "Ordinal Encoding: The Grade column was converted to numerical values.\n",
    "\n",
    "One-Hot Encoding: Categorical features like Histological type and Treatment were one-hot encoded.\n",
    "\n",
    "Standardization: Features were standardized using StandardScaler.\n",
    "\n",
    "\n",
    "# Model:\n",
    "\n",
    "Logistic Regression was used for classification after splitting the data into training (80%) and testing (20%) sets.\n",
    "\n",
    "The model was evaluated with a confusion matrix and classification report.\n",
    "\n",
    "# Results:\n",
    "\n",
    "Accuracy: 74%\n",
    "\n",
    "Precision: The model is most accurate for class 0 (NED), but struggles with class 1 (AWD).\n",
    "\n",
    "Recall: Class 1 (AWD) had the lowest recall (0.58), indicating some misclassifications in this group.\n",
    "\n",
    "In summary, the model performs fairly well but could benefit from further optimization, especially for predicting the AWD class."
   ]
  }
 ],
 "metadata": {
  "kernelspec": {
   "display_name": "Python 3 (ipykernel)",
   "language": "python",
   "name": "python3"
  },
  "language_info": {
   "codemirror_mode": {
    "name": "ipython",
    "version": 3
   },
   "file_extension": ".py",
   "mimetype": "text/x-python",
   "name": "python",
   "nbconvert_exporter": "python",
   "pygments_lexer": "ipython3",
   "version": "3.12.3"
  }
 },
 "nbformat": 4,
 "nbformat_minor": 5
}
